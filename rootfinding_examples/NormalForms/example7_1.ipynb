{
 "cells": [
  {
   "cell_type": "code",
   "execution_count": 1,
   "id": "a0ef92f6-e301-41fc-9e12-17b366dd7180",
   "metadata": {},
   "outputs": [
    {
     "data": {
      "text/plain": [
       "solveDense (generic function with 1 method)"
      ]
     },
     "execution_count": 1,
     "metadata": {},
     "output_type": "execute_result"
    }
   ],
   "source": [
    "using MultivariatePolynomials\n",
    "using DynamicPolynomials\n",
    "using MAT\n",
    "using EigenvalueSolver;\n",
    "include(\"denseTNF.jl\")"
   ]
  },
  {
   "cell_type": "code",
   "execution_count": 7,
   "id": "f79cfff3-43fa-4153-bd0f-41dae734f0c9",
   "metadata": {},
   "outputs": [],
   "source": [
    "@polyvar x[1:3];\n",
    "ds = [10,10,10];\n",
    "f = EigenvalueSolver.getRandomSystem_dense(x,ds);"
   ]
  },
  {
   "cell_type": "code",
   "execution_count": 8,
   "id": "d9b70306-8324-4e6a-8c43-0d4c3ccff6fb",
   "metadata": {},
   "outputs": [
    {
     "data": {
      "text/plain": [
       "rjd_sol (generic function with 1 method)"
      ]
     },
     "execution_count": 8,
     "metadata": {},
     "output_type": "execute_result"
    }
   ],
   "source": [
    "function rjd_sol(M)\n",
    "    size(M);\n",
    "    δ = size(M[1],1)\n",
    "    n = length(M);\n",
    "    solMatrix = fill(0.0+0.0*im,δ,n)\n",
    "    M_mu = sum(randn(n).*M);\n",
    "    X = eigvecs(M_mu);\n",
    "    for i = 1:n\n",
    "        Uᵢ = X \\ (M[i]*X)\n",
    "        solMatrix[:,i] = diag(Uᵢ)\n",
    "    end\n",
    "    sol_rjd = map(i->solMatrix[i,:],1:δ);\n",
    "    return sol_rjd\n",
    "end"
   ]
  },
  {
   "cell_type": "code",
   "execution_count": 9,
   "id": "d2f6023a-35c4-4552-8ba8-bacd95d6c8e9",
   "metadata": {},
   "outputs": [
    {
     "name": "stdout",
     "output_type": "stream",
     "text": [
      "constructing resultant map...\n",
      "  4.304896 seconds (6.37 M allocations: 630.348 MiB, 6.77% gc time)\n",
      "res is a matrix of size (4495, 3990)\n",
      "computing cokernel...\n",
      " 23.141253 seconds (14 allocations: 811.610 MiB, 0.04% gc time)\n",
      "N has size (1000, 4495)\n",
      "finding a basis using QR-P and computing multiplication matrices...\n",
      "  1.141439 seconds (36.05 k allocations: 204.673 MiB, 0.37% gc time)\n",
      "simultaneous diagonalization using Schur factorization...\n",
      "  1.414455 seconds (1.07 k allocations: 252.284 MiB, 0.10% gc time)\n"
     ]
    }
   ],
   "source": [
    "sol_QR,M = solveDense(f,x);"
   ]
  },
  {
   "cell_type": "code",
   "execution_count": 10,
   "id": "3059435b-47e5-4d77-8560-90897adaef0c",
   "metadata": {},
   "outputs": [
    {
     "name": "stdout",
     "output_type": "stream",
     "text": [
      "rSchur: 1.3139372074328442e-11\n",
      "rjd: 9.721078754309529e-14\n",
      "rSchur with Clusering: 0.009790897018065185\n"
     ]
    }
   ],
   "source": [
    "#file = matopen(\"commuting_matrics_from_polynomials.mat\",\"r\")\n",
    "#M = read(file, \"M\")\n",
    "repeats = 100;\n",
    "error_schur = 0;\n",
    "error_rjd = 0\n",
    "error_schur_c = 0;\n",
    "for i=1:repeats \n",
    "\n",
    "    sol_rjd = rjd_sol(M);\n",
    "    sol_schur = simulDiag_schur(M);\n",
    "    BWEs = EigenvalueSolver.get_residual(f,sol_schur,x)\n",
    "    error_schur += maximum(BWEs)\n",
    "    BWEs = EigenvalueSolver.get_residual(f,sol_rjd,x)\n",
    "    error_rjd += maximum(BWEs)\n",
    "    sol_schur_c = simulDiag_schur(M;clustering=true)\n",
    "    BWEs = EigenvalueSolver.get_residual(f,sol_schur_c,x)\n",
    "    error_schur_c+=maximum(BWEs)\n",
    "end\n",
    "println(\"rSchur: \", error_schur / repeats);\n",
    "println(\"rjd: \", error_rjd / repeats);\n",
    "println(\"rSchur with Clusering: \", error_schur_c / repeats);"
   ]
  },
  {
   "cell_type": "code",
   "execution_count": 11,
   "id": "fc9309f5-1f52-480d-b763-8b99169da7ff",
   "metadata": {},
   "outputs": [
    {
     "name": "stdout",
     "output_type": "stream",
     "text": [
      "Schur: 5.5798543203084585e-12\n",
      "SchurClu: 5.5798543203084585e-12\n"
     ]
    }
   ],
   "source": [
    "sol_fixed_schu = simulDiag_schur(M;random = false)\n",
    "BWEs = EigenvalueSolver.get_residual(f,sol_fixed_schu,x)\n",
    "error_fixed_schur = maximum(BWEs)\n",
    "sol_fixed_schu_c = simulDiag_schur(M;random = false,clustering = true)\n",
    "BWEs = EigenvalueSolver.get_residual(f,sol_fixed_schu_c,x)\n",
    "error_fixed_schur_c = maximum(BWEs)\n",
    "println(\"Schur: \", error_fixed_schur);\n",
    "println(\"SchurClu: \", error_fixed_schur_c);"
   ]
  },
  {
   "cell_type": "code",
   "execution_count": 7,
   "id": "12b3b351-305f-4667-a317-cf24ce081f54",
   "metadata": {},
   "outputs": [],
   "source": [
    "file = matopen(\"commuting_matrics_from_polynomials.mat\", \"w\")\n",
    "write(file, \"M\", M)\n",
    "close(file)"
   ]
  },
  {
   "cell_type": "code",
   "execution_count": 10,
   "id": "b4b05fca-e9d3-4182-bf0f-0e14c55f08e4",
   "metadata": {},
   "outputs": [
    {
     "data": {
      "text/plain": [
       "((3,), (1000, 1000))"
      ]
     },
     "execution_count": 10,
     "metadata": {},
     "output_type": "execute_result"
    }
   ],
   "source": [
    "size(M),size(M[1])"
   ]
  },
  {
   "cell_type": "code",
   "execution_count": null,
   "id": "0b89398a-282b-42de-992e-3cde5f7b706c",
   "metadata": {},
   "outputs": [],
   "source": []
  }
 ],
 "metadata": {
  "kernelspec": {
   "display_name": "Julia 1.10.3",
   "language": "julia",
   "name": "julia-1.10"
  },
  "language_info": {
   "file_extension": ".jl",
   "mimetype": "application/julia",
   "name": "julia",
   "version": "1.10.3"
  }
 },
 "nbformat": 4,
 "nbformat_minor": 5
}
