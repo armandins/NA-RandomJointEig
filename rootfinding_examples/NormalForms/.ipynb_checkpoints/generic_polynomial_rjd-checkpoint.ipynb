{
 "cells": [
  {
   "cell_type": "code",
   "execution_count": 5,
   "id": "a0ef92f6-e301-41fc-9e12-17b366dd7180",
   "metadata": {},
   "outputs": [
    {
     "data": {
      "text/plain": [
       "solveDense (generic function with 1 method)"
      ]
     },
     "execution_count": 5,
     "metadata": {},
     "output_type": "execute_result"
    }
   ],
   "source": [
    "using MultivariatePolynomials\n",
    "using DynamicPolynomials\n",
    "using MAT\n",
    "using EigenvalueSolver;\n",
    "include(\"denseTNF.jl\")"
   ]
  },
  {
   "cell_type": "code",
   "execution_count": 6,
   "id": "f79cfff3-43fa-4153-bd0f-41dae734f0c9",
   "metadata": {},
   "outputs": [],
   "source": [
    "@polyvar x[1:3];\n",
    "ds = [10,10,10];\n",
    "f = EigenvalueSolver.getRandomSystem_dense(x,ds);"
   ]
  },
  {
   "cell_type": "code",
   "execution_count": 7,
   "id": "d9b70306-8324-4e6a-8c43-0d4c3ccff6fb",
   "metadata": {},
   "outputs": [
    {
     "data": {
      "text/plain": [
       "rjd_sol (generic function with 1 method)"
      ]
     },
     "execution_count": 7,
     "metadata": {},
     "output_type": "execute_result"
    }
   ],
   "source": [
    "function rjd_sol(M)\n",
    "    size(M);\n",
    "    δ = size(M[1],1)\n",
    "    n = length(M);\n",
    "    solMatrix = fill(0.0+0.0*im,δ,n)\n",
    "    M_mu = sum(randn(n).*M);\n",
    "    X = eigvecs(M_mu);\n",
    "    for i = 1:n\n",
    "        Uᵢ = X \\ (M[i]*X)\n",
    "        solMatrix[:,i] = diag(Uᵢ)\n",
    "    end\n",
    "    sol_rjd = map(i->solMatrix[i,:],1:δ);\n",
    "    return sol_rjd\n",
    "end"
   ]
  },
  {
   "cell_type": "code",
   "execution_count": 8,
   "id": "d2f6023a-35c4-4552-8ba8-bacd95d6c8e9",
   "metadata": {},
   "outputs": [
    {
     "name": "stdout",
     "output_type": "stream",
     "text": [
      "constructing resultant map...\n",
      "  4.656412 seconds (6.67 M allocations: 650.719 MiB, 4.49% gc time, 4.21% compilation time)\n",
      "res is a matrix of size (4495, 3990)\n",
      "computing cokernel...\n"
     ]
    },
    {
     "ename": "LoadError",
     "evalue": "InterruptException:",
     "output_type": "error",
     "traceback": [
      "InterruptException:",
      "",
      "Stacktrace:",
      "  [1] _mapreduce(f::LinearAlgebra.var\"#35#36\"{Float64}, op::typeof(Base.add_sum), ::IndexLinear, A::Vector{Float64})",
      "    @ Base ./reduce.jl:428",
      "  [2] _mapreduce_dim",
      "    @ ./reducedim.jl:365 [inlined]",
      "  [3] mapreduce",
      "    @ ./reducedim.jl:357 [inlined]",
      "  [4] _sum",
      "    @ ./reducedim.jl:1015 [inlined]",
      "  [5] sum",
      "    @ ./reducedim.jl:1011 [inlined]",
      "  [6] nullspace(A::Transpose{Float64, Matrix{Float64}}; atol::Float64, rtol::Float64)",
      "    @ LinearAlgebra /snap/julia/98/share/julia/stdlib/v1.10/LinearAlgebra/src/dense.jl:1544",
      "  [7] nullspace",
      "    @ /snap/julia/98/share/julia/stdlib/v1.10/LinearAlgebra/src/dense.jl:1539 [inlined]",
      "  [8] macro expansion",
      "    @ ./timing.jl:279 [inlined]",
      "  [9] solveDense(f::Vector{DynamicPolynomials.Polynomial{DynamicPolynomials.Commutative{DynamicPolynomials.CreationOrder}, Graded{LexOrder}, Float64}}, x::Vector{Variable{DynamicPolynomials.Commutative{DynamicPolynomials.CreationOrder}, Graded{LexOrder}}}; basisChoice::String, clustering::Bool, tol::Float64)",
      "    @ Main ~/NormalForms/denseTNF.jl:127",
      " [10] solveDense(f::Vector{DynamicPolynomials.Polynomial{DynamicPolynomials.Commutative{DynamicPolynomials.CreationOrder}, Graded{LexOrder}, Float64}}, x::Vector{Variable{DynamicPolynomials.Commutative{DynamicPolynomials.CreationOrder}, Graded{LexOrder}}})",
      "    @ Main ~/NormalForms/denseTNF.jl:116",
      " [11] top-level scope",
      "    @ In[8]:1"
     ]
    }
   ],
   "source": [
    "sol_QR,M = solveDense(f,x);"
   ]
  },
  {
   "cell_type": "code",
   "execution_count": null,
   "id": "3059435b-47e5-4d77-8560-90897adaef0c",
   "metadata": {},
   "outputs": [],
   "source": [
    "#file = matopen(\"commuting_matrics_from_polynomials.mat\",\"r\")\n",
    "#M = read(file, \"M\")\n",
    "repeats = 0;\n",
    "error_schur = 0;\n",
    "error_rjd = 0\n",
    "error_schur_c = 0;\n",
    "for i=1:repeats \n",
    "\n",
    "    sol_rjd = rjd_sol(M);\n",
    "    sol_schur = simulDiag_schur(M);\n",
    "    BWEs = EigenvalueSolver.get_residual(f,sol_schur,x)\n",
    "    error_schur += maximum(BWEs)\n",
    "    BWEs = EigenvalueSolver.get_residual(f,sol_rjd,x)\n",
    "    error_rjd += maximum(BWEs)\n",
    "    sol_schur_c = simulDiag_schur(M;clustering=true)\n",
    "    BWEs = EigenvalueSolver.get_residual(f,sol_schur_c,x)\n",
    "    error_schur_c+=maximum(BWEs)\n",
    "end\n",
    "println(\"rSchur: \", error_schur / repeats);\n",
    "println(\"rjd: \", error_rjd / repeats);\n",
    "println(\"rSchur with Clusering: \", error_schur_c / repeats);"
   ]
  },
  {
   "cell_type": "code",
   "execution_count": null,
   "id": "fc9309f5-1f52-480d-b763-8b99169da7ff",
   "metadata": {},
   "outputs": [],
   "source": [
    "sol_fixed_schu = simulDiag_schur(M;random = false)\n",
    "BWEs = EigenvalueSolver.get_residual(f,sol_fixed_schu,x)\n",
    "error_fixed_schur = maximum(BWEs)\n",
    "sol_fixed_schu_c = simulDiag_schur(M;random = false,clustering = true)\n",
    "BWEs = EigenvalueSolver.get_residual(f,sol_fixed_schu_c,x)\n",
    "error_fixed_schur_c = maximum(BWEs)\n",
    "println(\"Schur: \", error_fixed_schur);\n",
    "println(\"SchurClu: \", error_fixed_schur_c);"
   ]
  },
  {
   "cell_type": "code",
   "execution_count": 7,
   "id": "12b3b351-305f-4667-a317-cf24ce081f54",
   "metadata": {},
   "outputs": [],
   "source": [
    "file = matopen(\"commuting_matrics_from_polynomials.mat\", \"w\")\n",
    "write(file, \"M\", M)\n",
    "close(file)"
   ]
  },
  {
   "cell_type": "code",
   "execution_count": 10,
   "id": "b4b05fca-e9d3-4182-bf0f-0e14c55f08e4",
   "metadata": {},
   "outputs": [
    {
     "data": {
      "text/plain": [
       "((3,), (1000, 1000))"
      ]
     },
     "execution_count": 10,
     "metadata": {},
     "output_type": "execute_result"
    }
   ],
   "source": [
    "size(M),size(M[1])"
   ]
  },
  {
   "cell_type": "code",
   "execution_count": null,
   "id": "0b89398a-282b-42de-992e-3cde5f7b706c",
   "metadata": {},
   "outputs": [],
   "source": []
  }
 ],
 "metadata": {
  "kernelspec": {
   "display_name": "Julia 1.10.3",
   "language": "julia",
   "name": "julia-1.10"
  },
  "language_info": {
   "file_extension": ".jl",
   "mimetype": "application/julia",
   "name": "julia",
   "version": "1.10.3"
  }
 },
 "nbformat": 4,
 "nbformat_minor": 5
}
